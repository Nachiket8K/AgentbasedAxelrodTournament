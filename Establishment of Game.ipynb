{
 "cells": [
  {
   "cell_type": "markdown",
   "id": "657586c9-f4f1-4bda-a322-bfce65e44860",
   "metadata": {},
   "source": [
    "Axelrod's Tournament is a well-known simulation in game theory that explores strategies for the Iterated Prisoner's Dilemma. In the original tournaments organized by Robert Axelrod, several strategies were employed by participants. The goal of this project is to repeat the excercise using agent based models in order to observe their behaviour after including a spatial component as well as changing opponents randomly to observe the strength of these strategies. \n"
   ]
  },
  {
   "cell_type": "code",
   "execution_count": 5,
   "id": "62f66de7-cd30-4914-83b4-460c14766ed7",
   "metadata": {},
   "outputs": [],
   "source": [
    "import numpy as np\n",
    "import random\n",
    "\n",
    "class Agent:\n",
    "    def __init__(self, name):\n",
    "        self.name = name\n",
    "        self.history = []\n",
    "        self.opponent_history = ['C']\n",
    "        self.position = (0, 0)\n",
    "\n",
    "    def next_move(self):\n",
    "        raise NotImplementedError(\"This method should be implemented by subclasses\")\n",
    "\n",
    "    def update_history(self, my_move, opponent_move):\n",
    "        self.history.append(my_move)\n",
    "        self.opponent_history.append(opponent_move)\n",
    "\n",
    "    def move(self, grid_size):\n",
    "        directions = [(-1, -1), (-1, 0), (-1, 1), (0, -1), (0, 1), (1, -1), (1, 0), (1, 1)]\n",
    "        dx, dy = random.choice(directions)\n",
    "        new_x = (self.position[0] + dx) % grid_size\n",
    "        new_y = (self.position[1] + dy) % grid_size\n",
    "        self.position = (new_x, new_y)\n"
   ]
  },
  {
   "cell_type": "markdown",
   "id": "ced77641-fab2-493e-9ee1-9875b71b63fc",
   "metadata": {},
   "source": [
    "We declare an agent class so that we can describe basic properties such as tracking the past history of the agent, and a default bias of previous move being a cooperative move. We also code general behaviours such as movement across the grid and a function to update the history of the agent. "
   ]
  },
  {
   "cell_type": "markdown",
   "id": "4450dfd2-d8df-47e5-9e82-e7b6e3c6553f",
   "metadata": {},
   "source": [
    "Now, based on this Agent classs, we define a set of 10 strategies from the original Axelrod Tournament. These are as follows:\n",
    "\n",
    "\n",
    "1) Tit for Tat: This strategy starts by cooperating and then mimics the opponent's previous move.\n",
    "2) Tit for Two Tats: Similar to Tit for Tat, but it only retaliates after the opponent has defected twice in a row.\n",
    "3) Always Cooperate: This strategy always cooperates, regardless of the opponent's moves.\n",
    "4) Always Defect: This strategy always defects.\n",
    "5) Random: This strategy makes random decisions to cooperate or defect.\n",
    "6) Grim Trigger: This strategy starts by cooperating but defects forever after the opponent defects once.\n",
    "7) Pavlov (Win-Stay, Lose-Shift): This strategy repeats its last move if it was rewarded (both cooperated or both defected) and changes its move if it was punished (one cooperated, one defected).\n",
    "8) Generous Tit for Tat: Similar to Tit for Tat but occasionally cooperates even after the opponent defects to promote cooperation.\n",
    "9) Hard Tit for Tat: This strategy defects after the opponent defects and continues to defect until the opponent cooperates twice in a row.\n",
    "10) Forgiving Tit for Tat: Similar to Tit for Tat but sometimes forgives a defection after a while to re-establish cooperation."
   ]
  },
  {
   "cell_type": "code",
   "execution_count": 6,
   "id": "af1850fe-99d0-4af2-aa15-05573f0efda3",
   "metadata": {},
   "outputs": [],
   "source": [
    "class TitForTat(Agent):\n",
    "    def next_move(self):\n",
    "        return self.opponent_history[-1]\n",
    "\n",
    "class TitForTwoTats(Agent):\n",
    "    def next_move(self):\n",
    "        if len(self.opponent_history) < 3:\n",
    "            return 'C'\n",
    "        if self.opponent_history[-1] == 'D' and self.opponent_history[-2] == 'D':\n",
    "            return 'D'\n",
    "        return 'C'\n",
    "\n",
    "class AlwaysCooperate(Agent):\n",
    "    def next_move(self):\n",
    "        return 'C'\n",
    "\n",
    "class AlwaysDefect(Agent):\n",
    "    def next_move(self):\n",
    "        return 'D'\n",
    "\n",
    "class Random(Agent):\n",
    "    def next_move(self):\n",
    "        return random.choice(['C', 'D'])\n",
    "\n",
    "class GrimTrigger(Agent):\n",
    "    def next_move(self):\n",
    "        if 'D' in self.opponent_history:\n",
    "            return 'D'\n",
    "        return 'C'\n",
    "\n",
    "class Pavlov(Agent):\n",
    "    def next_move(self):\n",
    "        if not self.history:\n",
    "            return 'C'\n",
    "        if self.history[-1] == self.opponent_history[-1]:\n",
    "            return 'C'\n",
    "        return 'D'\n",
    "\n",
    "class GenerousTitForTat(Agent):\n",
    "    def next_move(self):\n",
    "        if self.opponent_history[-1] == 'D' and random.random() < 0.1:  # 10% chance to cooperate\n",
    "            return 'C'\n",
    "        return self.opponent_history[-1]\n",
    "\n",
    "class HardTitForTat(Agent):\n",
    "    def __init__(self, name):\n",
    "        super().__init__(name)\n",
    "        self.opponent_defected = False\n",
    "\n",
    "    def next_move(self):\n",
    "        if 'D' in self.opponent_history:\n",
    "            self.opponent_defected = True\n",
    "        if self.opponent_defected:\n",
    "            return 'D'\n",
    "        return 'C'\n",
    "\n",
    "class ForgivingTitForTat(Agent):\n",
    "    def __init__(self, name):\n",
    "        super().__init__(name)\n",
    "        self.defect_count = 0\n",
    "\n",
    "    def next_move(self):\n",
    "        if self.opponent_history[-1] == 'D':\n",
    "            self.defect_count += 1\n",
    "        if self.defect_count >= 3:  # Forgive after 3 defections\n",
    "            self.defect_count = 0\n",
    "            return 'C'\n",
    "        return self.opponent_history[-1]\n",
    "\n"
   ]
  },
  {
   "cell_type": "markdown",
   "id": "891297a1-9145-42d1-9a09-e10e79838dcd",
   "metadata": {},
   "source": [
    "Now based on these strategies, we need to define the Prisoner's dilemma itself. We want this dilemma to occur when two agents are at the same location of the grid."
   ]
  },
  {
   "cell_type": "code",
   "execution_count": 7,
   "id": "563b9b34-5273-429d-a481-5c5bf1ed9e0c",
   "metadata": {},
   "outputs": [],
   "source": [
    "def prisoners_dilemma(agent1, agent2):\n",
    "    payoff_matrix = {\n",
    "        ('C', 'C'): (3, 3),  # Both cooperate\n",
    "        ('C', 'D'): (0, 5),  # Agent1 cooperates, Agent2 defects\n",
    "        ('D', 'C'): (5, 0),  # Agent1 defects, Agent2 cooperates\n",
    "        ('D', 'D'): (1, 1)   # Both defect\n",
    "    }\n",
    "    \n",
    "    move1 = agent1.next_move()\n",
    "    move2 = agent2.next_move()\n",
    "    \n",
    "    score1, score2 = payoff_matrix[(move1, move2)]\n",
    "    \n",
    "    agent1.update_history(move1, move2)\n",
    "    agent2.update_history(move2, move1)\n",
    "    \n",
    "    return (move1, move2), (score1, score2)\n",
    "\n"
   ]
  },
  {
   "cell_type": "markdown",
   "id": "f772621c-eaf4-4686-8feb-ba6dbaf08150",
   "metadata": {},
   "source": [
    "Now, we simulate the entire tournament to take place at the same time. We define a grid of 15x15 and populate 100 agents across this grid. As an initial proof of concept, we only perform 100 steps of the tournament."
   ]
  },
  {
   "cell_type": "code",
   "execution_count": 16,
   "id": "9223da94-c49f-43e3-a51f-e150d2878898",
   "metadata": {},
   "outputs": [
    {
     "name": "stdout",
     "output_type": "stream",
     "text": [
      "Agent 0 (GrimTrigger) final position: (6, 1), history: ['C', 'C', 'C', 'C', 'C', 'C', 'C', 'C', 'C', 'C', 'C', 'C', 'C', 'C', 'C', 'C', 'C', 'C', 'C', 'C', 'C', 'C', 'C', 'C', 'C', 'C', 'C', 'C', 'C', 'C', 'C', 'C', 'C', 'C', 'C']\n",
      "Agent 1 (Pavlov) final position: (1, 3), history: ['C', 'C', 'D', 'D', 'D', 'D', 'D', 'D', 'D', 'D', 'D', 'D', 'D', 'D', 'D', 'D', 'D', 'D', 'D', 'D', 'D', 'D', 'D', 'D', 'D', 'D', 'D', 'D', 'D', 'D', 'D', 'D', 'D', 'D', 'D', 'D', 'D', 'D', 'D', 'D', 'D', 'D', 'D', 'D', 'D', 'D', 'D']\n",
      "Agent 2 (GenerousTitForTat) final position: (6, 6), history: ['C', 'C', 'C', 'C', 'C', 'D', 'C', 'C', 'C', 'D', 'D', 'C', 'D', 'D', 'C', 'C', 'D', 'D', 'C', 'D', 'C', 'D', 'D', 'D', 'C', 'D', 'D', 'C', 'C', 'D', 'D', 'C', 'D', 'C', 'D', 'D', 'C', 'C', 'D', 'C']\n",
      "Agent 3 (GenerousTitForTat) final position: (0, 3), history: ['C', 'C', 'C', 'D', 'D', 'C', 'C', 'D', 'C', 'D', 'C', 'C', 'C', 'C', 'C', 'C', 'C', 'C', 'C', 'D', 'D', 'C', 'C', 'C', 'C', 'C', 'D', 'D', 'C', 'C', 'C', 'D', 'D', 'C', 'C']\n",
      "Agent 4 (TitForTat) final position: (5, 4), history: ['C', 'C', 'C', 'C', 'D', 'C', 'D', 'C', 'D', 'D', 'C', 'D', 'C', 'D', 'C', 'C', 'C', 'C', 'D', 'D', 'D', 'C', 'D', 'C', 'D', 'C', 'C', 'C', 'C', 'C', 'D', 'D', 'C', 'D', 'C', 'D', 'D', 'C', 'D', 'C', 'D', 'D']\n",
      "Agent 5 (GrimTrigger) final position: (1, 4), history: ['C', 'C', 'C', 'C', 'C', 'C', 'C', 'D', 'C', 'C', 'C', 'D', 'C', 'C', 'C', 'C', 'C', 'D', 'C', 'C', 'C', 'C', 'C', 'C', 'C', 'C', 'C', 'D', 'D', 'D', 'C', 'C', 'D', 'D', 'D', 'D', 'D', 'D', 'D', 'D', 'D', 'D', 'D', 'D', 'C', 'C', 'C', 'C', 'C', 'C', 'D', 'D', 'D']\n",
      "Agent 6 (Pavlov) final position: (0, 1), history: ['D', 'D', 'D', 'D', 'D', 'D', 'D', 'D', 'D', 'D', 'D', 'D', 'D', 'D', 'D', 'D', 'D', 'D', 'D', 'D', 'D', 'D', 'D', 'D', 'D', 'D', 'D', 'D', 'D', 'D', 'D', 'D', 'D', 'D', 'D', 'D', 'D', 'D', 'D', 'D', 'D', 'D', 'D', 'D', 'D', 'D', 'D', 'D', 'D', 'D', 'D', 'D', 'D']\n",
      "Agent 7 (ForgivingTitForTat) final position: (1, 5), history: ['D', 'D', 'D', 'D', 'D', 'D', 'D', 'D', 'D', 'D', 'D', 'D', 'D', 'D', 'D', 'D', 'D', 'D', 'D', 'D', 'D', 'D', 'D', 'D', 'D', 'D', 'D', 'D', 'D', 'D', 'D', 'D', 'D', 'D', 'D', 'D', 'D', 'D', 'D', 'D', 'D', 'D', 'D', 'D', 'D', 'D', 'D', 'D', 'D', 'D', 'D', 'D', 'D', 'D', 'D', 'D', 'D']\n",
      "Agent 8 (Pavlov) final position: (5, 6), history: ['C', 'D', 'C', 'D', 'C', 'D', 'C', 'D', 'C', 'D', 'C', 'D', 'D', 'D', 'D', 'D', 'D', 'D', 'D', 'D', 'C', 'C', 'C', 'C', 'C', 'D', 'D', 'D', 'D', 'C', 'D', 'C', 'D', 'D', 'C', 'C', 'D', 'D', 'D', 'C', 'D', 'C', 'D', 'D', 'C', 'D', 'D', 'C', 'D']\n",
      "Agent 9 (TitForTwoTats) final position: (3, 4), history: ['C', 'C', 'D', 'D', 'C', 'C', 'C', 'D', 'D', 'C', 'C', 'D', 'D', 'D', 'C', 'C', 'D', 'D', 'D', 'D', 'D', 'D', 'D', 'C', 'C', 'C', 'D', 'D', 'C', 'C', 'D', 'D', 'C', 'C', 'D', 'D', 'D', 'D', 'C', 'C', 'C', 'C', 'D', 'D', 'D', 'D', 'D', 'D', 'C', 'C', 'D', 'D', 'D', 'C', 'C', 'D', 'D', 'C', 'C', 'C', 'C', 'C', 'C']\n",
      "Agent 10 (Pavlov) final position: (5, 5), history: ['C', 'C', 'C', 'D', 'D', 'C', 'C', 'D', 'D', 'D', 'C', 'C', 'D', 'C', 'D', 'C', 'C', 'C', 'D', 'C', 'D', 'D', 'C', 'C', 'C', 'D', 'C', 'C', 'D', 'D', 'C', 'D', 'D', 'D', 'C', 'C', 'C']\n",
      "Agent 11 (AlwaysDefect) final position: (5, 4), history: ['C', 'D', 'C', 'D', 'C', 'D', 'D', 'C', 'C', 'C', 'C', 'D', 'D', 'D', 'D', 'D', 'D', 'C', 'C', 'C', 'C', 'C', 'D', 'D', 'C', 'C', 'D', 'C', 'D', 'C', 'C', 'D', 'D', 'D', 'D', 'C', 'D', 'D', 'C', 'D', 'D', 'D', 'D', 'C', 'C', 'C']\n",
      "Agent 12 (TitForTwoTats) final position: (0, 6), history: ['C', 'C', 'D', 'D', 'D', 'D', 'D', 'D', 'D', 'D', 'D', 'D', 'D', 'D', 'D', 'D', 'D', 'D', 'D', 'D', 'D', 'D', 'D', 'D', 'D', 'D', 'D', 'D', 'D', 'D', 'D', 'D', 'D', 'D', 'D', 'D', 'D', 'D', 'D', 'D', 'D', 'D', 'D', 'D', 'D', 'D']\n",
      "Agent 13 (GenerousTitForTat) final position: (5, 1), history: ['C', 'C', 'D', 'D', 'D', 'D', 'D', 'D', 'D', 'D', 'D', 'D', 'D', 'D', 'D', 'D', 'D', 'D', 'D', 'D', 'D', 'D', 'D', 'D', 'D', 'D', 'D', 'D', 'D', 'D', 'D', 'D', 'D', 'D', 'D', 'D', 'D', 'D', 'D', 'D', 'D', 'D', 'D', 'D', 'D', 'D', 'D', 'D', 'D', 'D', 'D', 'D', 'D', 'D', 'D', 'D', 'D', 'D', 'D', 'D', 'D', 'D', 'D', 'D', 'D', 'D', 'D', 'D', 'D', 'D', 'D', 'D', 'D', 'D']\n",
      "Agent 14 (Random) final position: (3, 0), history: ['C', 'C', 'C', 'C', 'D', 'D', 'D', 'D', 'D', 'D', 'D', 'D', 'D', 'D', 'D', 'D', 'D', 'D', 'D', 'D', 'D', 'D', 'D', 'D', 'D', 'D', 'D', 'D', 'D', 'D', 'D', 'D', 'D', 'D', 'D', 'D', 'D', 'D', 'D', 'D', 'D', 'D', 'D']\n",
      "Agent 15 (GrimTrigger) final position: (6, 0), history: ['C', 'C', 'C', 'D', 'D', 'D', 'D', 'D', 'D', 'C', 'D', 'D', 'C', 'C', 'D', 'D', 'D', 'D', 'D', 'D', 'D', 'D', 'D', 'D', 'D', 'D', 'D', 'D', 'D', 'D', 'D', 'D', 'D', 'C', 'D', 'D', 'D', 'C', 'C', 'C', 'D', 'D', 'C', 'C', 'D', 'C', 'C']\n",
      "Agent 16 (Random) final position: (5, 2), history: ['D', 'D', 'D', 'D', 'D', 'D', 'D', 'D', 'D', 'D', 'D', 'D', 'D', 'D', 'D', 'D', 'D', 'D', 'D', 'D', 'D', 'D', 'D', 'D', 'D', 'D', 'D', 'D', 'D', 'D', 'D', 'D', 'D', 'D', 'D', 'D', 'D', 'D', 'D', 'D']\n",
      "Agent 17 (ForgivingTitForTat) final position: (1, 1), history: ['C', 'C', 'C', 'C', 'C', 'C', 'C', 'C', 'C', 'C', 'C', 'C', 'C', 'C', 'C', 'C', 'C', 'C', 'C', 'C', 'C', 'C', 'C', 'C', 'C', 'C', 'C', 'C', 'C', 'C', 'C', 'C', 'C', 'C', 'C', 'C', 'C', 'C', 'C', 'C', 'C', 'C', 'C', 'C']\n",
      "Agent 18 (TitForTwoTats) final position: (5, 0), history: ['C', 'C', 'D', 'D', 'D', 'D', 'D', 'D', 'D', 'D', 'D', 'D', 'D', 'D', 'D', 'D', 'D', 'D', 'D', 'D', 'D', 'D', 'D', 'D', 'D', 'D', 'D', 'D', 'D', 'D', 'D', 'D', 'D', 'D', 'D', 'D', 'D', 'D', 'D', 'D', 'D', 'D', 'D']\n",
      "Agent 19 (GrimTrigger) final position: (1, 4), history: ['C', 'D', 'C', 'C', 'C', 'D', 'C', 'D', 'D', 'C', 'D', 'C', 'C', 'C', 'D', 'C', 'C', 'D', 'D', 'C', 'C', 'C', 'D', 'D', 'C', 'D', 'C', 'C', 'C', 'C', 'C', 'D', 'C', 'D', 'D', 'C', 'C', 'C', 'C', 'D', 'D', 'C', 'D', 'C', 'D', 'C', 'C', 'C', 'D', 'D', 'C', 'D', 'D', 'C', 'C', 'C', 'D', 'D', 'C']\n",
      "Agent 20 (AlwaysDefect) final position: (2, 6), history: ['C', 'C', 'C', 'D', 'D', 'C', 'D', 'D', 'C', 'D', 'C', 'C', 'D', 'D', 'D', 'D', 'D', 'D', 'D', 'D', 'C', 'D', 'C', 'C', 'D', 'D', 'D', 'D', 'D', 'D', 'D', 'C', 'C', 'C', 'C', 'C', 'C', 'C', 'D', 'D', 'D', 'D', 'C', 'D', 'D', 'C', 'C', 'C', 'C', 'C', 'C', 'C', 'D', 'C']\n",
      "Agent 21 (AlwaysCooperate) final position: (0, 2), history: ['C', 'D', 'C', 'D', 'C', 'C', 'C', 'C', 'D', 'D', 'C', 'C', 'D', 'D', 'C', 'D', 'D', 'C', 'D', 'D', 'C', 'D', 'D', 'C', 'C', 'C', 'C', 'C', 'D', 'C', 'D', 'C', 'C', 'D', 'C', 'D', 'C', 'D', 'D', 'C', 'D', 'D', 'C', 'C', 'D', 'D', 'C', 'D', 'C']\n",
      "Agent 22 (GrimTrigger) final position: (6, 3), history: ['C', 'C', 'C', 'C', 'D', 'C', 'D', 'D', 'C', 'D', 'C', 'D', 'C', 'D', 'D', 'C', 'C', 'D', 'C', 'D', 'C', 'D', 'C', 'C', 'C', 'C', 'C', 'C', 'D', 'D', 'C', 'D', 'C', 'C', 'D', 'D', 'D', 'D', 'C', 'D', 'C', 'D', 'C', 'D', 'D', 'C', 'C', 'D', 'D', 'C']\n",
      "Agent 23 (AlwaysCooperate) final position: (4, 6), history: ['C', 'C', 'D', 'C', 'D', 'C', 'C', 'C', 'D', 'D', 'D', 'C', 'D', 'C', 'D', 'D', 'C', 'C', 'C', 'C', 'C', 'D', 'C', 'D', 'D', 'D', 'C', 'D', 'C', 'C', 'C', 'C', 'D', 'D', 'C', 'C', 'D', 'C', 'D', 'C', 'D', 'C', 'C']\n",
      "Agent 24 (AlwaysCooperate) final position: (5, 0), history: ['C', 'C', 'C', 'D', 'D', 'D', 'D', 'D', 'D', 'D', 'D', 'D', 'D', 'D', 'D', 'D', 'D', 'D', 'D', 'D', 'D', 'D', 'D', 'D', 'D', 'D', 'D', 'D', 'D', 'D', 'D', 'D', 'D', 'D', 'D', 'D', 'D', 'D', 'D', 'D', 'D', 'D', 'D', 'D', 'D', 'D', 'D', 'D', 'D', 'D', 'D', 'D', 'D']\n"
     ]
    }
   ],
   "source": [
    "def simulate(grid_size=7, num_agents=25, num_steps=100):\n",
    "    grid = [[[] for _ in range(grid_size)] for _ in range(grid_size)]\n",
    "    \n",
    "    strategies = [\n",
    "        TitForTat, TitForTwoTats, AlwaysCooperate, AlwaysDefect,\n",
    "        Random, GrimTrigger, Pavlov, GenerousTitForTat, HardTitForTat, ForgivingTitForTat\n",
    "    ]\n",
    "    \n",
    "    agents = [random.choice(strategies)(f'Agent {i} ({strategy.__name__})') for i, strategy in enumerate(random.choices(strategies, k=num_agents))]\n",
    "       \n",
    "    for agent in agents:\n",
    "        agent.position = (random.randint(0, grid_size-1), random.randint(0, grid_size-1))\n",
    "        grid[agent.position[0]][agent.position[1]].append(agent)\n",
    "    \n",
    "    for step in range(num_steps):\n",
    "        for row in grid:\n",
    "            for cell in row:\n",
    "                cell.clear()\n",
    "        \n",
    "        for agent in agents:\n",
    "            agent.move(grid_size)\n",
    "            grid[agent.position[0]][agent.position[1]].append(agent)\n",
    "        \n",
    "        for row in grid:\n",
    "            for cell in row:\n",
    "                if len(cell) > 1:\n",
    "                    for i in range(len(cell)):\n",
    "                        for j in range(i + 1, len(cell)):\n",
    "                            prisoners_dilemma(cell[i], cell[j])\n",
    "\n",
    "    # Collect results and print or analyze\n",
    "    for agent in agents:\n",
    "        print(f'{agent.name} final position: {agent.position}, history: {agent.history}')\n",
    "\n",
    "# Example usage:\n",
    "simulate()\n"
   ]
  },
  {
   "cell_type": "markdown",
   "id": "dae0c02d-4bad-41f1-b9b5-2bf802ada91b",
   "metadata": {},
   "source": [
    "We can see a variety of outcomes so we can assume the game is functioning properly. Now, we modify the game and record the tournament for a much larger sample size."
   ]
  },
  {
   "cell_type": "code",
   "execution_count": 30,
   "id": "40ff76f1-7568-401e-9daa-860f442264f7",
   "metadata": {},
   "outputs": [
    {
     "data": {
      "text/html": [
       "<div>\n",
       "<style scoped>\n",
       "    .dataframe tbody tr th:only-of-type {\n",
       "        vertical-align: middle;\n",
       "    }\n",
       "\n",
       "    .dataframe tbody tr th {\n",
       "        vertical-align: top;\n",
       "    }\n",
       "\n",
       "    .dataframe thead th {\n",
       "        text-align: right;\n",
       "    }\n",
       "</style>\n",
       "<table border=\"1\" class=\"dataframe\">\n",
       "  <thead>\n",
       "    <tr style=\"text-align: right;\">\n",
       "      <th></th>\n",
       "      <th>Agent Name</th>\n",
       "      <th>Strategy Used</th>\n",
       "      <th>History</th>\n",
       "    </tr>\n",
       "  </thead>\n",
       "  <tbody>\n",
       "    <tr>\n",
       "      <th>0</th>\n",
       "      <td>Agent 0 (TitForTat)</td>\n",
       "      <td>TitForTat</td>\n",
       "      <td>[C, C, C, C, D, D, D, D, D, D, D, D, D, D, D, ...</td>\n",
       "    </tr>\n",
       "    <tr>\n",
       "      <th>1</th>\n",
       "      <td>Agent 1 (ForgivingTitForTat)</td>\n",
       "      <td>ForgivingTitForTat</td>\n",
       "      <td>[C, D, D, D, D, D, D, D, D, D, D, D, D, D, D, ...</td>\n",
       "    </tr>\n",
       "    <tr>\n",
       "      <th>2</th>\n",
       "      <td>Agent 2 (AlwaysDefect)</td>\n",
       "      <td>AlwaysDefect</td>\n",
       "      <td>[D, D, D, D, D, D, D, D, D, D, D, D, D, D, D, ...</td>\n",
       "    </tr>\n",
       "    <tr>\n",
       "      <th>3</th>\n",
       "      <td>Agent 3 (Random)</td>\n",
       "      <td>Random</td>\n",
       "      <td>[C, C, C, C, C, C, C, C, C, D, D, C, C, C, D, ...</td>\n",
       "    </tr>\n",
       "    <tr>\n",
       "      <th>4</th>\n",
       "      <td>Agent 4 (GrimTrigger)</td>\n",
       "      <td>GrimTrigger</td>\n",
       "      <td>[C, C, C, C, C, D, D, D, D, D, C, D, C, C, C, ...</td>\n",
       "    </tr>\n",
       "  </tbody>\n",
       "</table>\n",
       "</div>"
      ],
      "text/plain": [
       "                     Agent Name       Strategy Used  \\\n",
       "0           Agent 0 (TitForTat)           TitForTat   \n",
       "1  Agent 1 (ForgivingTitForTat)  ForgivingTitForTat   \n",
       "2        Agent 2 (AlwaysDefect)        AlwaysDefect   \n",
       "3              Agent 3 (Random)              Random   \n",
       "4         Agent 4 (GrimTrigger)         GrimTrigger   \n",
       "\n",
       "                                             History  \n",
       "0  [C, C, C, C, D, D, D, D, D, D, D, D, D, D, D, ...  \n",
       "1  [C, D, D, D, D, D, D, D, D, D, D, D, D, D, D, ...  \n",
       "2  [D, D, D, D, D, D, D, D, D, D, D, D, D, D, D, ...  \n",
       "3  [C, C, C, C, C, C, C, C, C, D, D, C, C, C, D, ...  \n",
       "4  [C, C, C, C, C, D, D, D, D, D, C, D, C, C, C, ...  "
      ]
     },
     "execution_count": 30,
     "metadata": {},
     "output_type": "execute_result"
    }
   ],
   "source": [
    "import pandas as pd\n",
    "\n",
    "def simulate(grid_size=20, num_agents=100, num_steps=5000):\n",
    "    grid = [[[] for _ in range(grid_size)] for _ in range(grid_size)]\n",
    "    \n",
    "    strategies = [\n",
    "        TitForTat, TitForTwoTats, AlwaysCooperate, AlwaysDefect,\n",
    "        Random, GrimTrigger, Pavlov, GenerousTitForTat, HardTitForTat, ForgivingTitForTat\n",
    "    ]\n",
    "    \n",
    "    agents = [random.choice(strategies)(f'Agent {i} ({strategy.__name__})') for i, strategy in enumerate(random.choices(strategies, k=num_agents))]\n",
    "    \n",
    "    for agent in agents:\n",
    "        agent.position = (random.randint(0, grid_size-1), random.randint(0, grid_size-1))\n",
    "        grid[agent.position[0]][agent.position[1]].append(agent)\n",
    "    \n",
    "    for step in range(num_steps):\n",
    "        for row in grid:\n",
    "            for cell in row:\n",
    "                cell.clear()\n",
    "        \n",
    "        for agent in agents:\n",
    "            agent.move(grid_size)\n",
    "            grid[agent.position[0]][agent.position[1]].append(agent)\n",
    "        \n",
    "        for row in grid:\n",
    "            for cell in row:\n",
    "                if len(cell) > 1:\n",
    "                    for i in range(len(cell)):\n",
    "                        for j in range(i + 1, len(cell)):\n",
    "                            prisoners_dilemma(cell[i], cell[j])\n",
    "\n",
    "    # Collect results and save to a DataFrame\n",
    "    results = []\n",
    "    for agent in agents:\n",
    "        agent_name = agent.name\n",
    "        strategy_used = agent_name.split('(')[-1].strip(')')\n",
    "        history = agent.history\n",
    "        results.append([agent_name, strategy_used, history])\n",
    "    \n",
    "    df = pd.DataFrame(results, columns=['Agent Name', 'Strategy Used', 'History'])\n",
    "    df.to_excel(\"output_file.xlsx\", index=False)\n",
    "    return df\n",
    "\n",
    "# Example usage:\n",
    "df = simulate()\n",
    "df.head()\n"
   ]
  },
  {
   "cell_type": "code",
   "execution_count": 33,
   "id": "c92fa34f-6a6a-4f32-8dcf-16ab2712260b",
   "metadata": {},
   "outputs": [
    {
     "name": "stdout",
     "output_type": "stream",
     "text": [
      "<class 'pandas.core.frame.DataFrame'>\n",
      "RangeIndex: 100 entries, 0 to 99\n",
      "Data columns (total 3 columns):\n",
      " #   Column         Non-Null Count  Dtype \n",
      "---  ------         --------------  ----- \n",
      " 0   Agent Name     100 non-null    object\n",
      " 1   Strategy Used  100 non-null    object\n",
      " 2   History        100 non-null    object\n",
      "dtypes: object(3)\n",
      "memory usage: 2.5+ KB\n"
     ]
    },
    {
     "data": {
      "text/html": [
       "<div>\n",
       "<style scoped>\n",
       "    .dataframe tbody tr th:only-of-type {\n",
       "        vertical-align: middle;\n",
       "    }\n",
       "\n",
       "    .dataframe tbody tr th {\n",
       "        vertical-align: top;\n",
       "    }\n",
       "\n",
       "    .dataframe thead th {\n",
       "        text-align: right;\n",
       "    }\n",
       "</style>\n",
       "<table border=\"1\" class=\"dataframe\">\n",
       "  <thead>\n",
       "    <tr style=\"text-align: right;\">\n",
       "      <th></th>\n",
       "      <th>Agent Name</th>\n",
       "      <th>Strategy Used</th>\n",
       "      <th>History</th>\n",
       "    </tr>\n",
       "  </thead>\n",
       "  <tbody>\n",
       "    <tr>\n",
       "      <th>count</th>\n",
       "      <td>100</td>\n",
       "      <td>100</td>\n",
       "      <td>100</td>\n",
       "    </tr>\n",
       "    <tr>\n",
       "      <th>unique</th>\n",
       "      <td>100</td>\n",
       "      <td>10</td>\n",
       "      <td>100</td>\n",
       "    </tr>\n",
       "    <tr>\n",
       "      <th>top</th>\n",
       "      <td>Agent 0 (TitForTat)</td>\n",
       "      <td>ForgivingTitForTat</td>\n",
       "      <td>['C', 'C', 'C', 'C', 'D', 'D', 'D', 'D', 'D', ...</td>\n",
       "    </tr>\n",
       "    <tr>\n",
       "      <th>freq</th>\n",
       "      <td>1</td>\n",
       "      <td>14</td>\n",
       "      <td>1</td>\n",
       "    </tr>\n",
       "  </tbody>\n",
       "</table>\n",
       "</div>"
      ],
      "text/plain": [
       "                 Agent Name       Strategy Used  \\\n",
       "count                   100                 100   \n",
       "unique                  100                  10   \n",
       "top     Agent 0 (TitForTat)  ForgivingTitForTat   \n",
       "freq                      1                  14   \n",
       "\n",
       "                                                  History  \n",
       "count                                                 100  \n",
       "unique                                                100  \n",
       "top     ['C', 'C', 'C', 'C', 'D', 'D', 'D', 'D', 'D', ...  \n",
       "freq                                                    1  "
      ]
     },
     "execution_count": 33,
     "metadata": {},
     "output_type": "execute_result"
    }
   ],
   "source": [
    "df = pd.read_excel('output_file.xlsx')\n",
    "\n",
    "# Display basic information about the DataFrame\n",
    "df.info()\n",
    "df.describe()\n"
   ]
  },
  {
   "cell_type": "code",
   "execution_count": 34,
   "id": "affb9275-e0a6-4e45-b092-ebf987c7f8ac",
   "metadata": {},
   "outputs": [
    {
     "name": "stdout",
     "output_type": "stream",
     "text": [
      "Strategy Used\n",
      "ForgivingTitForTat    14\n",
      "TitForTwoTats         13\n",
      "GrimTrigger           12\n",
      "AlwaysCooperate       12\n",
      "GenerousTitForTat     11\n",
      "HardTitForTat         10\n",
      "TitForTat              9\n",
      "AlwaysDefect           7\n",
      "Random                 7\n",
      "Pavlov                 5\n",
      "Name: count, dtype: int64\n"
     ]
    }
   ],
   "source": [
    "# Distribution of strategies used\n",
    "strategy_distribution = df['Strategy Used'].value_counts()\n",
    "print(strategy_distribution)\n"
   ]
  },
  {
   "cell_type": "code",
   "execution_count": 35,
   "id": "a4ce502e-d119-47e2-bce3-b140a603fe52",
   "metadata": {},
   "outputs": [
    {
     "name": "stdout",
     "output_type": "stream",
     "text": [
      "count     100.000000\n",
      "mean     6178.800000\n",
      "std       225.248594\n",
      "min      5730.000000\n",
      "25%      6010.000000\n",
      "50%      6157.500000\n",
      "75%      6346.250000\n",
      "max      6945.000000\n",
      "Name: History Length, dtype: float64\n"
     ]
    }
   ],
   "source": [
    "# Analyzing the length of histories\n",
    "df['History Length'] = df['History'].apply(len)\n",
    "print(df['History Length'].describe())"
   ]
  },
  {
   "cell_type": "code",
   "execution_count": 36,
   "id": "d8ac510d-f377-408f-9c16-3764df4aa2c4",
   "metadata": {},
   "outputs": [
    {
     "data": {
      "image/png": "[encoded data removed]",
      "text/plain": [
       "<Figure size 1000x600 with 1 Axes>"
      ]
     },
     "metadata": {},
     "output_type": "display_data"
    }
   ],
   "source": [
    "# Plotting the distribution of strategies\n",
    "import matplotlib.pyplot as plt\n",
    "\n",
    "plt.figure(figsize=(10, 6))\n",
    "strategy_distribution.plot(kind='bar')\n",
    "plt.title('Distribution of Strategies Used')\n",
    "plt.xlabel('Strategy')\n",
    "plt.ylabel('Count')\n",
    "plt.show()\n",
    "\n"
   ]
  },
  {
   "cell_type": "code",
   "execution_count": 37,
   "id": "42aab56b-26f5-432a-ab5a-8025ca9a5a93",
   "metadata": {},
   "outputs": [
    {
     "name": "stdout",
     "output_type": "stream",
     "text": [
      "                       Agent Name       Strategy Used  Cooperation Rate\n",
      "0             Agent 0 (TitForTat)           TitForTat          0.000649\n",
      "1    Agent 1 (ForgivingTitForTat)  ForgivingTitForTat          0.000164\n",
      "2          Agent 2 (AlwaysDefect)        AlwaysDefect          0.000000\n",
      "3                Agent 3 (Random)              Random          0.143641\n",
      "4           Agent 4 (GrimTrigger)         GrimTrigger          0.104968\n",
      "..                            ...                 ...               ...\n",
      "95         Agent 95 (GrimTrigger)         GrimTrigger          0.103859\n",
      "96       Agent 96 (TitForTwoTats)       TitForTwoTats          0.000000\n",
      "97  Agent 97 (ForgivingTitForTat)  ForgivingTitForTat          0.000321\n",
      "98       Agent 98 (TitForTwoTats)       TitForTwoTats          0.100244\n",
      "99       Agent 99 (TitForTwoTats)       TitForTwoTats          0.000000\n",
      "\n",
      "[100 rows x 3 columns]\n"
     ]
    },
    {
     "data": {
      "text/plain": [
       "<Figure size 1000x600 with 0 Axes>"
      ]
     },
     "metadata": {},
     "output_type": "display_data"
    },
    {
     "data": {
      "image/png": "[encoded data removed]",
      "text/plain": [
       "<Figure size 640x480 with 1 Axes>"
      ]
     },
     "metadata": {},
     "output_type": "display_data"
    }
   ],
   "source": [
    "# Analyzing cooperation rates\n",
    "def cooperation_rate(history):\n",
    "    return history.count('C') / len(history) if history else 0\n",
    "\n",
    "df['Cooperation Rate'] = df['History'].apply(cooperation_rate)\n",
    "print(df[['Agent Name', 'Strategy Used', 'Cooperation Rate']])\n",
    "\n",
    "# Plotting cooperation rates\n",
    "plt.figure(figsize=(10, 6))\n",
    "df.boxplot(column='Cooperation Rate', by='Strategy Used', grid=False, rot=90)\n",
    "plt.title('Cooperation Rate by Strategy')\n",
    "plt.suptitle('')\n",
    "plt.xlabel('Strategy')\n",
    "plt.ylabel('Cooperation Rate')\n",
    "plt.show()"
   ]
  },
  {
   "cell_type": "code",
   "execution_count": null,
   "id": "7fd338e2-79c5-419f-968d-66486eac8c0e",
   "metadata": {},
   "outputs": [],
   "source": []
  }
 ],
 "metadata": {
  "kernelspec": {
   "display_name": "Python 3 (ipykernel)",
   "language": "python",
   "name": "python3"
  },
  "language_info": {
   "codemirror_mode": {
    "name": "ipython",
    "version": 3
   },
   "file_extension": ".py",
   "mimetype": "text/x-python",
   "name": "python",
   "nbconvert_exporter": "python",
   "pygments_lexer": "ipython3",
   "version": "3.12.0"
  }
 },
 "nbformat": 4,
 "nbformat_minor": 5
}
